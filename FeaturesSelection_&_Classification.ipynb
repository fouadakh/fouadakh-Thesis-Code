{
  "nbformat": 4,
  "nbformat_minor": 0,
  "metadata": {
    "colab": {
      "name": "FeaturesSelection & Classification.ipynb",
      "provenance": [],
      "collapsed_sections": [],
      "include_colab_link": true
    },
    "kernelspec": {
      "name": "python3",
      "display_name": "Python 3"
    },
    "language_info": {
      "name": "python"
    }
  },
  "cells": [
    {
      "cell_type": "markdown",
      "metadata": {
        "id": "view-in-github",
        "colab_type": "text"
      },
      "source": [
        "<a href=\"https://colab.research.google.com/github/fouadakh/fouadakh-Thesis-Code/blob/main/FeaturesSelection_%26_Classification.ipynb\" target=\"_parent\"><img src=\"https://colab.research.google.com/assets/colab-badge.svg\" alt=\"Open In Colab\"/></a>"
      ]
    },
    {
      "cell_type": "code",
      "metadata": {
        "id": "BS0jUxDb-Pyg"
      },
      "source": [
        "!cp -r /content/drive/MyDrive/ICU_Dataset/ICUDatasetProcessed ."
      ],
      "execution_count": null,
      "outputs": []
    },
    {
      "cell_type": "code",
      "metadata": {
        "id": "9q92sHlz-aF0"
      },
      "source": [
        "import numpy as np  \n",
        "import pandas as pd\n",
        "import os \n",
        "from sklearn.model_selection import train_test_split"
      ],
      "execution_count": 1,
      "outputs": []
    },
    {
      "cell_type": "code",
      "metadata": {
        "colab": {
          "base_uri": "https://localhost:8080/"
        },
        "id": "Z7NKHq_t-aId",
        "outputId": "88f36282-181c-435f-a8bd-d44ad7a4a538"
      },
      "source": [
        "df1 = pd.read_csv('/content/ICUDatasetProcessed/environmentMonitoring.csv')\n",
        "df1.columns"
      ],
      "execution_count": 5,
      "outputs": [
        {
          "output_type": "execute_result",
          "data": {
            "text/plain": [
              "Index(['frame.time_delta', 'frame.time_relative', 'frame.len', 'ip.src',\n",
              "       'ip.dst', 'tcp.srcport', 'tcp.dstport', 'tcp.flags', 'tcp.time_delta',\n",
              "       'tcp.len', 'tcp.ack', 'tcp.connection.fin', 'tcp.connection.rst',\n",
              "       'tcp.connection.sack', 'tcp.connection.syn', 'tcp.flags.ack',\n",
              "       'tcp.flags.fin', 'tcp.flags.push', 'tcp.flags.reset', 'tcp.flags.syn',\n",
              "       'tcp.flags.urg', 'tcp.hdr_len', 'tcp.payload', 'tcp.pdu.size',\n",
              "       'tcp.window_size_value', 'tcp.checksum', 'mqtt.clientid',\n",
              "       'mqtt.clientid_len', 'mqtt.conack.flags', 'mqtt.conack.val',\n",
              "       'mqtt.conflag.passwd', 'mqtt.conflag.qos', 'mqtt.conflag.reserved',\n",
              "       'mqtt.conflag.retain', 'mqtt.conflag.willflag', 'mqtt.conflags',\n",
              "       'mqtt.dupflag', 'mqtt.hdrflags', 'mqtt.kalive', 'mqtt.len', 'mqtt.msg',\n",
              "       'mqtt.msgtype', 'mqtt.qos', 'mqtt.retain', 'mqtt.topic',\n",
              "       'mqtt.topic_len', 'mqtt.ver', 'mqtt.willmsg_len', 'ip.proto', 'ip.ttl',\n",
              "       'class', 'label'],\n",
              "      dtype='object')"
            ]
          },
          "metadata": {},
          "execution_count": 5
        }
      ]
    },
    {
      "cell_type": "code",
      "metadata": {
        "colab": {
          "base_uri": "https://localhost:8080/"
        },
        "id": "HFScRGIbABUt",
        "outputId": "a021fa79-1e3d-487b-bb26-d7dfd6512db8"
      },
      "source": [
        "import os\n",
        "path = '/content/ICUDatasetProcessed/'\n",
        "csvs = os.listdir(path)\n",
        "csvs"
      ],
      "execution_count": 7,
      "outputs": [
        {
          "output_type": "execute_result",
          "data": {
            "text/plain": [
              "['patientMonitoring.csv', 'Attack.csv', 'environmentMonitoring.csv']"
            ]
          },
          "metadata": {},
          "execution_count": 7
        }
      ]
    },
    {
      "cell_type": "code",
      "metadata": {
        "colab": {
          "base_uri": "https://localhost:8080/"
        },
        "id": "bqfJQZOd-aU-",
        "outputId": "e5b283c2-8961-408d-e6d9-16612d0c5f53"
      },
      "source": [
        "import pandas as pd\n",
        "\n",
        "df1 = pd.DataFrame()\n",
        "\n",
        "for csv in csvs:\n",
        "  print(f'---- Reading {csv} ----')\n",
        "  df = pd.read_csv(path+csv)\n",
        "  print(f'df.shape: {df.shape}')\n",
        "  empty_cols = [col for col in df.columns if df[col].isnull().all()]\n",
        "  print(f'empty_cols: {len(empty_cols)}')\n",
        "  print(empty_cols)\n",
        "  df.fillna(0, inplace=True)\n",
        "  df1 = df1.append(df, ignore_index=True)\n",
        "  print(f'df1.shape: {df1.shape}')"
      ],
      "execution_count": 8,
      "outputs": [
        {
          "output_type": "stream",
          "name": "stdout",
          "text": [
            "---- Reading patientMonitoring.csv ----\n"
          ]
        },
        {
          "output_type": "stream",
          "name": "stderr",
          "text": [
            "/usr/local/lib/python3.7/dist-packages/IPython/core/interactiveshell.py:2882: DtypeWarning: Columns (26,28,35) have mixed types.Specify dtype option on import or set low_memory=False.\n",
            "  exec(code_obj, self.user_global_ns, self.user_ns)\n"
          ]
        },
        {
          "output_type": "stream",
          "name": "stdout",
          "text": [
            "df.shape: (76810, 52)\n",
            "empty_cols: 0\n",
            "[]\n",
            "df1.shape: (76810, 52)\n",
            "---- Reading Attack.csv ----\n",
            "df.shape: (35517, 52)\n",
            "empty_cols: 0\n",
            "[]\n",
            "df1.shape: (112327, 52)\n",
            "---- Reading environmentMonitoring.csv ----\n",
            "df.shape: (31758, 52)\n",
            "empty_cols: 0\n",
            "[]\n",
            "df1.shape: (144085, 52)\n"
          ]
        }
      ]
    },
    {
      "cell_type": "code",
      "metadata": {
        "id": "81pv4OlD-aK6"
      },
      "source": [
        "feats = ['ip.src', 'ip.dst', 'tcp.srcport', 'tcp.dstport','mqtt.topic', 'mqtt.msg', 'tcp.payload','mqtt.clientid', 'mqtt.conflags', 'mqtt.conack.flags', 'class']"
      ],
      "execution_count": 9,
      "outputs": []
    },
    {
      "cell_type": "code",
      "metadata": {
        "colab": {
          "base_uri": "https://localhost:8080/"
        },
        "id": "0gFlNKyz_yvq",
        "outputId": "574dcc6f-aa2f-4f08-e12c-a9059d9e84c3"
      },
      "source": [
        "df1.drop(labels=feats, axis=1, inplace=True)\n",
        "df1.shape"
      ],
      "execution_count": 10,
      "outputs": [
        {
          "output_type": "execute_result",
          "data": {
            "text/plain": [
              "(144085, 41)"
            ]
          },
          "metadata": {},
          "execution_count": 10
        }
      ]
    },
    {
      "cell_type": "code",
      "metadata": {
        "id": "yHC63qTCiBb1"
      },
      "source": [
        "fs1 =  ['frame.time_delta', 'tcp.flags', 'tcp.time_delta', 'tcp.connection.rst', 'tcp.flags.ack', 'tcp.flags.push', 'tcp.flags.reset', 'tcp.hdr_len', \n",
        "        'mqtt.clientid_len', 'mqtt.hdrflags', 'mqtt.msgtype', 'mqtt.qos', 'mqtt.ver', 'ip.proto', 'ip.ttl', 'label']\n",
        "fs2 = ['frame.time_delta', 'tcp.time_delta', 'tcp.flags.ack', 'tcp.flags.push', 'tcp.flags.reset', 'mqtt.hdrflags', 'mqtt.msgtype', 'mqtt.qos', 'mqtt.retain', 'mqtt.ver', 'label']"
      ],
      "execution_count": 11,
      "outputs": []
    },
    {
      "cell_type": "code",
      "metadata": {
        "colab": {
          "base_uri": "https://localhost:8080/"
        },
        "id": "5KCLtWDXiB34",
        "outputId": "90657789-6620-4dc8-e086-918789556612"
      },
      "source": [
        "df1 = df1[fs2]\n",
        "df1.shape"
      ],
      "execution_count": 12,
      "outputs": [
        {
          "output_type": "execute_result",
          "data": {
            "text/plain": [
              "(144085, 11)"
            ]
          },
          "metadata": {},
          "execution_count": 12
        }
      ]
    },
    {
      "cell_type": "code",
      "metadata": {
        "colab": {
          "base_uri": "https://localhost:8080/"
        },
        "id": "_aRW5t2j_ytL",
        "outputId": "bb79df0f-b3a9-408f-fc3c-bd6404df6db4"
      },
      "source": [
        "df1['label'].value_counts()"
      ],
      "execution_count": 13,
      "outputs": [
        {
          "output_type": "execute_result",
          "data": {
            "text/plain": [
              "0.0    108569\n",
              "1.0     35516\n",
              "Name: label, dtype: int64"
            ]
          },
          "metadata": {},
          "execution_count": 13
        }
      ]
    },
    {
      "cell_type": "code",
      "metadata": {
        "id": "ReucJgq4MxGc",
        "colab": {
          "base_uri": "https://localhost:8080/"
        },
        "outputId": "64b16d92-aed5-4a4b-f862-8f5f35d73921"
      },
      "source": [
        "from sklearn import preprocessing\n",
        "label_encoder = preprocessing.LabelEncoder()\n",
        "\n",
        "#df1['tcp.flags']= label_encoder.fit_transform(df1['tcp.flags'])\n",
        "#df1['tcp.checksum']= label_encoder.fit_transform(df1['tcp.checksum'])\n",
        "\n",
        "#Check Type\n",
        "#df1['mqtt.hdrflags']= label_encoder.fit_transform(df1['mqtt.hdrflags'])\n",
        "df1['mqtt.hdrflags']= label_encoder.fit_transform(df1['mqtt.hdrflags'].astype(str))\n",
        "print(df1)\n",
        "\n"
      ],
      "execution_count": 24,
      "outputs": [
        {
          "output_type": "stream",
          "name": "stdout",
          "text": [
            "        frame.time_delta  tcp.time_delta  tcp.flags.ack  tcp.flags.push  \\\n",
            "0               0.000000        0.000000              1               1   \n",
            "1               0.000249        0.000000              1               1   \n",
            "2               0.000037        0.000000              1               1   \n",
            "3               0.000034        0.000000              1               1   \n",
            "4               0.000017        0.000000              1               1   \n",
            "...                  ...             ...            ...             ...   \n",
            "144080          0.000008        2.998972              1               1   \n",
            "144081          0.000058        0.000083              1               1   \n",
            "144082          0.000011        0.000119              1               1   \n",
            "144083          0.000010        0.000109              1               1   \n",
            "144084          0.000008        0.000095              1               1   \n",
            "\n",
            "        tcp.flags.reset  mqtt.hdrflags  mqtt.msgtype  mqtt.qos  mqtt.retain  \\\n",
            "0                     0              1           1.0       0.0          0.0   \n",
            "1                     0              1           1.0       0.0          0.0   \n",
            "2                     0              1           1.0       0.0          0.0   \n",
            "3                     0              1           1.0       0.0          0.0   \n",
            "4                     0              1           1.0       0.0          0.0   \n",
            "...                 ...            ...           ...       ...          ...   \n",
            "144080                0              3           3.0       0.0          0.0   \n",
            "144081                0              5           4.0       0.0          0.0   \n",
            "144082                0              5           4.0       0.0          0.0   \n",
            "144083                0              5           4.0       0.0          0.0   \n",
            "144084                0              5           4.0       0.0          0.0   \n",
            "\n",
            "        mqtt.ver  label  \n",
            "0              1    0.0  \n",
            "1              1    0.0  \n",
            "2              1    0.0  \n",
            "3              1    0.0  \n",
            "4              1    0.0  \n",
            "...          ...    ...  \n",
            "144080         0    0.0  \n",
            "144081         0    0.0  \n",
            "144082         0    0.0  \n",
            "144083         0    0.0  \n",
            "144084         0    0.0  \n",
            "\n",
            "[144085 rows x 11 columns]\n"
          ]
        }
      ]
    },
    {
      "cell_type": "code",
      "metadata": {
        "id": "EybA4ZDn_yyh",
        "colab": {
          "base_uri": "https://localhost:8080/"
        },
        "outputId": "a69fa97a-4a95-4357-dd1f-588cc5b2494d"
      },
      "source": [
        "X_train, X_test, y_train, y_test = train_test_split( df1.drop(labels=['label'], axis=1), df1['label'], \n",
        "                                                                            test_size=0.3, random_state=100)\n",
        "print(X_train)\n",
        "print(y_train)"
      ],
      "execution_count": 25,
      "outputs": [
        {
          "output_type": "stream",
          "name": "stdout",
          "text": [
            "        frame.time_delta  tcp.time_delta  tcp.flags.ack  tcp.flags.push  \\\n",
            "51613           0.000008        1.999900              1               1   \n",
            "52360           0.000025       59.997592              1               1   \n",
            "136948          0.000302        5.000466              1               1   \n",
            "38309           0.000137        2.011817              1               1   \n",
            "38427           0.000027        2.005017              1               1   \n",
            "...                  ...             ...            ...             ...   \n",
            "82270           0.000009        0.004637              1               0   \n",
            "65615           0.000071        2.009254              1               1   \n",
            "77655           0.000299        0.073619              1               1   \n",
            "56088           0.000027        1.996553              1               1   \n",
            "38408           0.000029        1.998165              1               1   \n",
            "\n",
            "        tcp.flags.reset  mqtt.hdrflags  mqtt.msgtype  mqtt.qos  mqtt.retain  \\\n",
            "51613                 0              3           3.0       0.0          0.0   \n",
            "52360                 0              6          12.0       0.0          0.0   \n",
            "136948                0              3           3.0       0.0          0.0   \n",
            "38309                 0              3           3.0       0.0          0.0   \n",
            "38427                 0              3           3.0       0.0          0.0   \n",
            "...                 ...            ...           ...       ...          ...   \n",
            "82270                 0              0           0.0       0.0          0.0   \n",
            "65615                 0              3           3.0       0.0          0.0   \n",
            "77655                 0              0           0.0       0.0          0.0   \n",
            "56088                 0              3           3.0       0.0          0.0   \n",
            "38408                 0              3           3.0       0.0          0.0   \n",
            "\n",
            "        mqtt.ver  \n",
            "51613          0  \n",
            "52360          0  \n",
            "136948         0  \n",
            "38309          0  \n",
            "38427          0  \n",
            "...          ...  \n",
            "82270          0  \n",
            "65615          0  \n",
            "77655          0  \n",
            "56088          0  \n",
            "38408          0  \n",
            "\n",
            "[100859 rows x 10 columns]\n",
            "51613     0.0\n",
            "52360     0.0\n",
            "136948    0.0\n",
            "38309     0.0\n",
            "38427     0.0\n",
            "         ... \n",
            "82270     1.0\n",
            "65615     0.0\n",
            "77655     1.0\n",
            "56088     0.0\n",
            "38408     0.0\n",
            "Name: label, Length: 100859, dtype: float64\n"
          ]
        }
      ]
    },
    {
      "cell_type": "code",
      "metadata": {
        "colab": {
          "base_uri": "https://localhost:8080/"
        },
        "id": "j37v0Oie_y0l",
        "outputId": "20cdf0fb-db29-459d-a4c6-a81a421d0f68"
      },
      "source": [
        "from sklearn.feature_selection import SelectFromModel\n",
        "from sklearn.linear_model import LogisticRegression\n",
        "\n",
        "print('---------- SelectFromModel LogisticRegression -----------')\n",
        "embeded_LR_selector = SelectFromModel(LogisticRegression(penalty=\"l1\", solver='liblinear'), threshold='0.9*median',\n",
        "                                      max_features = 10)\n",
        "embeded_LR_selector.fit(X_train, y_train)\n",
        "embeded_LR_support = embeded_LR_selector.get_support()\n",
        "print('embeded_LR_support',embeded_LR_support)\n",
        "#embeded_lr_selector = embeded_lr_selector.scores_\n",
        "#embeded_lr_support = embeded_lr_selector.get_support()\n",
        "#embeded_LR_feature = df.loc[:,embeded_LR_support].columns.tolist()\n",
        "\n",
        "embeded_LR_feature = X_train.loc[:,embeded_LR_support].columns.tolist()\n",
        "\n",
        "print(len(embeded_LR_feature), 'selected features')\n",
        "print('embeded_LR_features: ', embeded_LR_feature)"
      ],
      "execution_count": 26,
      "outputs": [
        {
          "output_type": "stream",
          "name": "stdout",
          "text": [
            "---------- SelectFromModel LogisticRegression -----------\n",
            "embeded_LR_support [False  True False  True False  True  True False False  True]\n",
            "5 selected features\n",
            "embeded_LR_features:  ['tcp.time_delta', 'tcp.flags.push', 'mqtt.hdrflags', 'mqtt.msgtype', 'mqtt.ver']\n"
          ]
        }
      ]
    },
    {
      "cell_type": "code",
      "metadata": {
        "id": "pSxaWZiy_y3x"
      },
      "source": [
        "fs1 =  ['frame.time_delta', 'tcp.flags', 'tcp.time_delta', 'tcp.connection.rst', 'tcp.flags.ack', 'tcp.flags.push', 'tcp.flags.reset', 'tcp.hdr_len', 'mqtt.clientid_len', 'mqtt.hdrflags', 'mqtt.msgtype', 'mqtt.qos', 'mqtt.ver', 'ip.proto', 'ip.ttl']\n",
        "fs2 = ['frame.time_delta', 'tcp.time_delta', 'tcp.flags.ack', 'tcp.flags.push', 'tcp.flags.reset', 'mqtt.hdrflags', 'mqtt.msgtype', 'mqtt.qos', 'mqtt.retain', 'mqtt.ver']"
      ],
      "execution_count": 27,
      "outputs": []
    },
    {
      "cell_type": "code",
      "metadata": {
        "id": "iyqFSSUKRRFj"
      },
      "source": [
        "from sklearn.naive_bayes import GaussianNB\n",
        "from sklearn.neighbors import KNeighborsClassifier\n",
        "from sklearn.ensemble import RandomForestClassifier, AdaBoostClassifier\n",
        "from sklearn import linear_model #Linear Regression\n",
        "#from sklearn.linear_model import LogisticRegression\n",
        "from sklearn.tree import DecisionTreeClassifier\n",
        "from sklearn.svm import SVC   #SVM\n",
        "\n",
        "from sklearn.metrics import confusion_matrix  \n",
        "from sklearn.metrics import precision_score, recall_score, f1_score, accuracy_score\n",
        "from sklearn.metrics import classification_report"
      ],
      "execution_count": 28,
      "outputs": []
    },
    {
      "cell_type": "code",
      "metadata": {
        "colab": {
          "base_uri": "https://localhost:8080/"
        },
        "id": "pURC2jzP_y5x",
        "outputId": "13366567-c4b6-4b2b-a39c-93770c69ed93"
      },
      "source": [
        "\n",
        "print('--------Applying GaussianNB Classifier ----------')\n",
        "gnb = GaussianNB()\n",
        "gnb_fit = gnb.fit(X_train, y_train)  \n",
        "gnb_prediction = gnb.predict(X_test) \n",
        "\n",
        "\n",
        "print('--------Applying KNeighborsClassifier Classifier ----------')\n",
        "KNN_model = KNeighborsClassifier(n_neighbors=5)\n",
        "KNN_model.fit(X_train, y_train)\n",
        "KNN_prediction = KNN_model.predict(X_test)\n",
        "\n",
        "print('--------Applying RandomForestClassifier Classifier ----------')\n",
        "RF = RandomForestClassifier(max_depth=10, random_state=100)  \n",
        "RF.fit(X_train, y_train)\n",
        "RF_prediction = RF.predict(X_test)\n",
        "\n",
        "\n",
        "print('--------Applying AdaBoostClassifier Classifier ----------')\n",
        "AB = AdaBoostClassifier()\n",
        "AB.fit(X_train, y_train)\n",
        "AB_prediction = AB.predict(X_test)\n",
        "\n",
        "\n",
        "print('--------Applying LogisticRegression Classifier ----------')\n",
        "#LogR = LogisticRegression()\n",
        "LogR = linear_model.LogisticRegression()\n",
        "LogR.fit(X_train, y_train)\n",
        "LogR_prediction = LogR.predict(X_test)\n",
        "\n",
        "\n",
        "print('--------Applying DecisionTree Classifier ----------')\n",
        "DT = DecisionTreeClassifier(criterion = \"gini\", random_state = 100, max_depth=10, min_samples_leaf=5)\n",
        "DT.fit(X_train, y_train)\n",
        "DT_prediction = DT.predict(X_test)\n"
      ],
      "execution_count": 29,
      "outputs": [
        {
          "output_type": "stream",
          "name": "stdout",
          "text": [
            "--------Applying GaussianNB Classifier ----------\n",
            "--------Applying KNeighborsClassifier Classifier ----------\n",
            "--------Applying RandomForestClassifier Classifier ----------\n",
            "--------Applying AdaBoostClassifier Classifier ----------\n",
            "--------Applying LogisticRegression Classifier ----------\n",
            "--------Applying DecisionTree Classifier ----------\n"
          ]
        },
        {
          "output_type": "stream",
          "name": "stderr",
          "text": [
            "/usr/local/lib/python3.7/dist-packages/sklearn/linear_model/_logistic.py:818: ConvergenceWarning: lbfgs failed to converge (status=1):\n",
            "STOP: TOTAL NO. of ITERATIONS REACHED LIMIT.\n",
            "\n",
            "Increase the number of iterations (max_iter) or scale the data as shown in:\n",
            "    https://scikit-learn.org/stable/modules/preprocessing.html\n",
            "Please also refer to the documentation for alternative solver options:\n",
            "    https://scikit-learn.org/stable/modules/linear_model.html#logistic-regression\n",
            "  extra_warning_msg=_LOGISTIC_SOLVER_CONVERGENCE_MSG,\n"
          ]
        }
      ]
    },
    {
      "cell_type": "code",
      "metadata": {
        "colab": {
          "base_uri": "https://localhost:8080/"
        },
        "id": "SyTvBDDL_y8Y",
        "outputId": "1bb3c63a-7794-42e5-a41c-dc58dcc2dbb1"
      },
      "source": [
        "print('-------Performance Evaluation----------')\n",
        "#precision_score, recall_score, f1_score, accuracy_score\n",
        "results = []\n",
        "selector = 'LR'\n",
        "results.append((selector,'','', '',''))\n",
        "results.append(('Classifier','Accurary','Precision', 'Recall','F1-Score'))\n",
        "results.append(('NB ', accuracy_score(y_test,  gnb_prediction)*100,\n",
        "                precision_score(y_test,  gnb_prediction)*100,\n",
        "                recall_score(y_test,  gnb_prediction)*100,\n",
        "                f1_score(y_test,  gnb_prediction)*100))\n",
        "results.append(('KNN ', accuracy_score(y_test, KNN_prediction)*100,\n",
        "                precision_score(y_test, KNN_prediction)*100,\n",
        "                recall_score(y_test, KNN_prediction)*100,\n",
        "                f1_score(y_test, KNN_prediction)*100))\n",
        "results.append(('RF ', accuracy_score(y_test,  RF_prediction)*100,\n",
        "                precision_score(y_test,  RF_prediction)*100,\n",
        "                recall_score(y_test,  RF_prediction)*100,\n",
        "                f1_score(y_test,  RF_prediction)*100))\n",
        "results.append(('AB ', accuracy_score(y_test,  AB_prediction)*100,\n",
        "                precision_score(y_test,  AB_prediction)*100,\n",
        "                recall_score(y_test,  AB_prediction)*100,\n",
        "                f1_score(y_test,  AB_prediction)*100))\n",
        "results.append(('LogR ', accuracy_score(y_test,  LogR_prediction)*100,\n",
        "                precision_score(y_test,  LogR_prediction)*100,\n",
        "                recall_score(y_test,  LogR_prediction)*100,\n",
        "                f1_score(y_test,  LogR_prediction)*100))\n",
        "results.append(('DT ', accuracy_score(y_test,  DT_prediction)*100,\n",
        "                precision_score(y_test,  DT_prediction)*100,\n",
        "                recall_score(y_test,  DT_prediction)*100,\n",
        "                f1_score(y_test,  DT_prediction)*100))\n",
        "\n",
        "print('type(results): ', type(results))\n",
        "print('results: ', results)\n",
        "df_results = pd.DataFrame(results)\n",
        "print('type(df_results): ', type(df_results))\n",
        "print('df_results: ', df_results)"
      ],
      "execution_count": null,
      "outputs": [
        {
          "output_type": "stream",
          "text": [
            "-------Performance Evaluation----------\n",
            "type(results):  <class 'list'>\n",
            "results:  [('LR', '', '', '', ''), ('Classifier', 'Accurary', 'Precision', 'Recall', 'F1-Score'), ('NB ', 79.67107703722023, 99.705296694544, 52.18225019800742, 68.50919439579684), ('KNN ', 99.65023229521807, 99.6867298776158, 99.48726499645672, 99.58689755894012), ('RF ', 99.70676040912223, 99.79515906525647, 99.51227646004419, 99.6535170110624), ('AB ', 99.55484110300482, 99.4459025955089, 99.50393930551503, 99.47491248541424), ('LogR ', 95.28696850324152, 90.35164086452932, 99.50393930551503, 94.70718933502619), ('DT ', 99.69439488420569, 99.79926396788224, 99.47892784192754, 99.6388384376109)]\n",
            "type(df_results):  <class 'pandas.core.frame.DataFrame'>\n",
            "df_results:              0         1          2        3         4\n",
            "0          LR                                        \n",
            "1  Classifier  Accurary  Precision   Recall  F1-Score\n",
            "2         NB    79.6711    99.7053  52.1823   68.5092\n",
            "3        KNN    99.6502    99.6867  99.4873   99.5869\n",
            "4         RF    99.7068    99.7952  99.5123   99.6535\n",
            "5         AB    99.5548    99.4459  99.5039   99.4749\n",
            "6       LogR     95.287    90.3516  99.5039   94.7072\n",
            "7         DT    99.6944    99.7993  99.4789   99.6388\n"
          ],
          "name": "stdout"
        }
      ]
    },
    {
      "cell_type": "code",
      "metadata": {
        "colab": {
          "base_uri": "https://localhost:8080/"
        },
        "id": "ZNQfD_6o-aX2",
        "outputId": "4c40bc59-de61-4689-c3fa-0c3a38ee82bb"
      },
      "source": [
        "print('Confusion Matrix gnb_prediction')\n",
        "print(confusion_matrix(y_test,gnb_prediction))\n",
        "print('Confusion Matrix KNN_prediction')\n",
        "print(confusion_matrix(y_test,KNN_prediction))\n",
        "print('Confusion Matrix RF_prediction')\n",
        "print(confusion_matrix(y_test,RF_prediction))\n",
        "print('Confusion Matrix AB_prediction')\n",
        "print(confusion_matrix(y_test,AB_prediction))\n",
        "print('Confusion Matrix LogR_prediction')\n",
        "print(confusion_matrix(y_test,LogR_prediction))\n",
        "print('Confusion Matrix DT_prediction')\n",
        "print(confusion_matrix(y_test,DT_prediction))"
      ],
      "execution_count": null,
      "outputs": [
        {
          "output_type": "stream",
          "text": [
            "Confusion Matrix gnb_prediction\n",
            "[[32583    37]\n",
            " [11471 12518]]\n",
            "Confusion Matrix KNN_prediction\n",
            "[[32545    75]\n",
            " [  123 23866]]\n",
            "Confusion Matrix RF_prediction\n",
            "[[32571    49]\n",
            " [  117 23872]]\n",
            "Confusion Matrix AB_prediction\n",
            "[[32487   133]\n",
            " [  119 23870]]\n",
            "Confusion Matrix LogR_prediction\n",
            "[[30071  2549]\n",
            " [  119 23870]]\n",
            "Confusion Matrix DT_prediction\n",
            "[[32572    48]\n",
            " [  125 23864]]\n"
          ],
          "name": "stdout"
        }
      ]
    },
    {
      "cell_type": "code",
      "metadata": {
        "id": "itBMp57S-abA"
      },
      "source": [
        ""
      ],
      "execution_count": null,
      "outputs": []
    }
  ]
}